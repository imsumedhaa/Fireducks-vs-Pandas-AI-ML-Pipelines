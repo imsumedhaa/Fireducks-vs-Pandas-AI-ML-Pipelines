{
  "nbformat": 4,
  "nbformat_minor": 0,
  "metadata": {
    "colab": {
      "provenance": [],
      "authorship_tag": "ABX9TyO+pIJawxqCui1V+pwIrz/W",
      "include_colab_link": true
    },
    "kernelspec": {
      "name": "python3",
      "display_name": "Python 3"
    },
    "language_info": {
      "name": "python"
    }
  },
  "cells": [
    {
      "cell_type": "markdown",
      "metadata": {
        "id": "view-in-github",
        "colab_type": "text"
      },
      "source": [
        "<a href=\"https://colab.research.google.com/github/imsumedhaa/Fireducks-vs-Pandas-AI-ML-Pipelines/blob/main/AI_%26_ML_Pipelines.ipynb\" target=\"_parent\"><img src=\"https://colab.research.google.com/assets/colab-badge.svg\" alt=\"Open In Colab\"/></a>"
      ]
    },
    {
      "cell_type": "code",
      "execution_count": 1,
      "metadata": {
        "colab": {
          "base_uri": "https://localhost:8080/"
        },
        "id": "nUx_GEEHPpRf",
        "outputId": "36aa66e6-a6c4-49c1-9515-413d1839fe3b"
      },
      "outputs": [
        {
          "output_type": "stream",
          "name": "stdout",
          "text": [
            "Requirement already satisfied: fireducks in /usr/local/lib/python3.11/dist-packages (1.2.6)\n",
            "Requirement already satisfied: firefw==1.2.6 in /usr/local/lib/python3.11/dist-packages (from fireducks) (1.2.6)\n",
            "Requirement already satisfied: pandas<2.3.0,>=1.5.3 in /usr/local/lib/python3.11/dist-packages (from fireducks) (2.2.2)\n",
            "Requirement already satisfied: pyarrow<19.1,>=19.0 in /usr/local/lib/python3.11/dist-packages (from fireducks) (19.0.1)\n",
            "Requirement already satisfied: numpy>=1.23.2 in /usr/local/lib/python3.11/dist-packages (from pandas<2.3.0,>=1.5.3->fireducks) (2.0.2)\n",
            "Requirement already satisfied: python-dateutil>=2.8.2 in /usr/local/lib/python3.11/dist-packages (from pandas<2.3.0,>=1.5.3->fireducks) (2.8.2)\n",
            "Requirement already satisfied: pytz>=2020.1 in /usr/local/lib/python3.11/dist-packages (from pandas<2.3.0,>=1.5.3->fireducks) (2025.2)\n",
            "Requirement already satisfied: tzdata>=2022.7 in /usr/local/lib/python3.11/dist-packages (from pandas<2.3.0,>=1.5.3->fireducks) (2025.2)\n",
            "Requirement already satisfied: six>=1.5 in /usr/local/lib/python3.11/dist-packages (from python-dateutil>=2.8.2->pandas<2.3.0,>=1.5.3->fireducks) (1.17.0)\n"
          ]
        }
      ],
      "source": [
        "!pip install fireducks\n",
        "import pandas as pd\n",
        "import fireducks.pandas as fd\n",
        "import numpy as np\n",
        "import time\n",
        "\n",
        "def evaluate(df):\n",
        "    try:\n",
        "        df._evaluate()\n",
        "    except AttributeError:\n",
        "        pass\n",
        "\n",
        "# 1. Create sample data\n",
        "df = pd.DataFrame({\n",
        "    \"product\": np.random.choice([\"apple\", \"banana\", \"orange\", \"kiwi\"], size=1_000_000),\n",
        "    \"region\": np.random.choice([\"north\", \"south\", \"east\", \"west\"], size=1_000_000),\n",
        "    \"price\": np.random.uniform(10, 200, size=1_000_000),\n",
        "    \"units_sold\": np.random.randint(1, 50, size=1_000_000)\n",
        "})\n",
        "df.to_csv(\"sales_data.csv\", index=False)"
      ]
    },
    {
      "cell_type": "code",
      "source": [
        "# Pandas\n",
        "start = time.time()\n",
        "pdf = pd.read_csv(\"sales_data.csv\")\n",
        "filtered_pdf = pdf[pdf[\"price\"] > 100]\n",
        "grouped_pdf = filtered_pdf.groupby(\"region\")[\"price\"].mean().reset_index()\n",
        "sorted_pdf = grouped_pdf.sort_values(by=\"price\", ascending=False)\n",
        "print(\" Pandas Time:\", round(time.time() - start, 4), \"sec\")\n",
        "\n",
        "# FireDucks\n",
        "start = time.time()\n",
        "fdf = fd.read_csv(\"sales_data.csv\")\n",
        "filtered_fdf = fdf[fdf[\"price\"] > 100]\n",
        "grouped_fdf = filtered_fdf.groupby(\"region\")[\"price\"].mean().reset_index()\n",
        "sorted_fdf = grouped_fdf.sort_values(by=\"price\", ascending=False)\n",
        "evaluate(sorted_fdf)\n",
        "print(\" FireDucks Time:\", round(time.time() - start, 4), \"sec\")"
      ],
      "metadata": {
        "colab": {
          "base_uri": "https://localhost:8080/"
        },
        "id": "g_thKg1CP2zN",
        "outputId": "57c780a7-d11b-4a2e-a980-448b2016b87d"
      },
      "execution_count": 3,
      "outputs": [
        {
          "output_type": "stream",
          "name": "stdout",
          "text": [
            " Pandas Time: 0.6216 sec\n",
            " FireDucks Time: 0.3277 sec\n"
          ]
        }
      ]
    }
  ]
}