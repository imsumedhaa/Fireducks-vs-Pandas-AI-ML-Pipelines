{
  "nbformat": 4,
  "nbformat_minor": 0,
  "metadata": {
    "colab": {
      "provenance": [],
      "gpuType": "V28",
      "authorship_tag": "ABX9TyNwvs4H3bR8U8JK6wHvzTJx",
      "include_colab_link": true
    },
    "kernelspec": {
      "name": "python3",
      "display_name": "Python 3"
    },
    "language_info": {
      "name": "python"
    },
    "accelerator": "TPU"
  },
  "cells": [
    {
      "cell_type": "markdown",
      "metadata": {
        "id": "view-in-github",
        "colab_type": "text"
      },
      "source": [
        "<a href=\"https://colab.research.google.com/github/imsumedhaa/Fireducks-vs-Pandas-AI-ML-Pipelines/blob/main/AI_%26_ML_Pipelines.ipynb\" target=\"_parent\"><img src=\"https://colab.research.google.com/assets/colab-badge.svg\" alt=\"Open In Colab\"/></a>"
      ]
    },
    {
      "cell_type": "code",
      "execution_count": 1,
      "metadata": {
        "colab": {
          "base_uri": "https://localhost:8080/"
        },
        "id": "nUx_GEEHPpRf",
        "outputId": "a9f40976-4c69-41f5-a03b-ca80c41f8893"
      },
      "outputs": [
        {
          "output_type": "stream",
          "name": "stdout",
          "text": [
            "Collecting fireducks\n",
            "  Downloading fireducks-1.2.8-cp311-cp311-manylinux_2_28_x86_64.whl.metadata (1.0 kB)\n",
            "Collecting firefw==1.2.8 (from fireducks)\n",
            "  Downloading firefw-1.2.8-py3-none-any.whl.metadata (818 bytes)\n",
            "Requirement already satisfied: pandas<2.3.0,>=1.5.3 in /usr/local/lib/python3.11/dist-packages (from fireducks) (2.2.2)\n",
            "Collecting pyarrow<19.1,>=19.0 (from fireducks)\n",
            "  Downloading pyarrow-19.0.1-cp311-cp311-manylinux_2_28_x86_64.whl.metadata (3.3 kB)\n",
            "Requirement already satisfied: numpy>=1.23.2 in /usr/local/lib/python3.11/dist-packages (from pandas<2.3.0,>=1.5.3->fireducks) (2.0.2)\n",
            "Requirement already satisfied: python-dateutil>=2.8.2 in /usr/local/lib/python3.11/dist-packages (from pandas<2.3.0,>=1.5.3->fireducks) (2.9.0.post0)\n",
            "Requirement already satisfied: pytz>=2020.1 in /usr/local/lib/python3.11/dist-packages (from pandas<2.3.0,>=1.5.3->fireducks) (2025.2)\n",
            "Requirement already satisfied: tzdata>=2022.7 in /usr/local/lib/python3.11/dist-packages (from pandas<2.3.0,>=1.5.3->fireducks) (2025.2)\n",
            "Requirement already satisfied: six>=1.5 in /usr/local/lib/python3.11/dist-packages (from python-dateutil>=2.8.2->pandas<2.3.0,>=1.5.3->fireducks) (1.17.0)\n",
            "Downloading fireducks-1.2.8-cp311-cp311-manylinux_2_28_x86_64.whl (7.4 MB)\n",
            "\u001b[2K   \u001b[90m━━━━━━━━━━━━━━━━━━━━━━━━━━━━━━━━━━━━━━━━\u001b[0m \u001b[32m7.4/7.4 MB\u001b[0m \u001b[31m48.5 MB/s\u001b[0m eta \u001b[36m0:00:00\u001b[0m\n",
            "\u001b[?25hDownloading firefw-1.2.8-py3-none-any.whl (12 kB)\n",
            "Downloading pyarrow-19.0.1-cp311-cp311-manylinux_2_28_x86_64.whl (42.1 MB)\n",
            "\u001b[2K   \u001b[90m━━━━━━━━━━━━━━━━━━━━━━━━━━━━━━━━━━━━━━━━\u001b[0m \u001b[32m42.1/42.1 MB\u001b[0m \u001b[31m31.7 MB/s\u001b[0m eta \u001b[36m0:00:00\u001b[0m\n",
            "\u001b[?25hInstalling collected packages: pyarrow, firefw, fireducks\n",
            "  Attempting uninstall: pyarrow\n",
            "    Found existing installation: pyarrow 20.0.0\n",
            "    Uninstalling pyarrow-20.0.0:\n",
            "      Successfully uninstalled pyarrow-20.0.0\n",
            "Successfully installed fireducks-1.2.8 firefw-1.2.8 pyarrow-19.0.1\n",
            "✅ Created 'sales_data.csv'\n"
          ]
        }
      ],
      "source": [
        "# Install FireDucks\n",
        "!pip install fireducks\n",
        "\n",
        "# Set environment variable for benchmark mode BEFORE importing FireDucks\n",
        "import os\n",
        "os.environ[\"FIREDUCKS_FLAGS\"] = \"--benchmark-mode\"\n",
        "\n",
        "import pandas as pd\n",
        "import fireducks.pandas as fd\n",
        "import numpy as np\n",
        "import time\n",
        "\n",
        "# Create sample dataset\n",
        "df = pd.DataFrame({\n",
        "    'product': np.random.choice(['apple', 'banana', 'orange', 'kiwi'], size=1_000_000),\n",
        "    'region': np.random.choice(['north', 'south', 'east', 'west'], size=1_000_000),\n",
        "    'price': np.random.uniform(10, 200, size=1_000_000),\n",
        "    'units_sold': np.random.randint(1, 50, size=1_000_000)\n",
        "})\n",
        "df.to_csv('sales_data.csv', index=False)\n",
        "print(\"✅ Created 'sales_data.csv'\")"
      ]
    },
    {
      "cell_type": "code",
      "source": [
        "# 1. Pandas Benchmark: Read\n",
        "# ----------------------------------------\n",
        "start = time.time()\n",
        "pdf = pd.read_csv('sales_data.csv')\n",
        "print('📄 Pandas Read Time:', round((time.time() - start) * 1000, 2), 'ms')\n",
        "\n",
        "# ----------------------------------------\n",
        "# 2. FireDucks Benchmark: Read\n",
        "# ----------------------------------------\n",
        "start = time.time()\n",
        "fdf = fd.read_csv('sales_data.csv')\n",
        "print('🔥 FireDucks Read Time:', round((time.time() - start) * 1000, 2), 'ms')\n"
      ],
      "metadata": {
        "colab": {
          "base_uri": "https://localhost:8080/"
        },
        "id": "g_thKg1CP2zN",
        "outputId": "ddffffe2-b2e1-4925-f9d8-ca24e1676e8c"
      },
      "execution_count": 3,
      "outputs": [
        {
          "output_type": "stream",
          "name": "stdout",
          "text": [
            "📄 Pandas Read Time: 344.89 ms\n",
            "🔥 FireDucks Read Time: 35.67 ms\n"
          ]
        }
      ]
    },
    {
      "cell_type": "code",
      "source": [
        "start = time.time()\n",
        "filtered_pdf = pdf[pdf['price'] > 100]\n",
        "print('📉 Pandas Filter Time:', round((time.time() - start) * 1000, 2), 'ms')\n",
        "\n",
        "# ----------------------------------------\n",
        "# 4. FireDucks Benchmark: Filter\n",
        "# ----------------------------------------\n",
        "start = time.time()\n",
        "filtered_fdf = fdf[fdf['price'] > 100]\n",
        "print('🔥 FireDucks Filter Time:', round((time.time() - start) * 1000, 2), 'ms')"
      ],
      "metadata": {
        "colab": {
          "base_uri": "https://localhost:8080/"
        },
        "id": "8KN0-VbH4vHQ",
        "outputId": "cd713d24-c669-4fc8-da50-2c213b72ab1b"
      },
      "execution_count": 5,
      "outputs": [
        {
          "output_type": "stream",
          "name": "stdout",
          "text": [
            "📉 Pandas Filter Time: 17.69 ms\n",
            "🔥 FireDucks Filter Time: 17.82 ms\n"
          ]
        }
      ]
    },
    {
      "cell_type": "code",
      "source": [
        "start = time.time()\n",
        "grouped_pdf = pdf.groupby('region')['price'].mean().reset_index()\n",
        "print('📊 Pandas GroupBy Time:', round((time.time() - start) * 1000, 2), 'ms')\n",
        "\n",
        "# ----------------------------------------\n",
        "# 6. FireDucks Benchmark: GroupBy\n",
        "# ----------------------------------------\n",
        "start = time.time()\n",
        "grouped_fdf = fdf.groupby('region')['price'].mean().reset_index()\n",
        "print('🔥 FireDucks GroupBy Time:', round((time.time() - start) * 1000, 2), 'ms')"
      ],
      "metadata": {
        "colab": {
          "base_uri": "https://localhost:8080/"
        },
        "id": "XPqThf9H5AHV",
        "outputId": "372f3342-bfe4-464d-f584-a40eceff892d"
      },
      "execution_count": 6,
      "outputs": [
        {
          "output_type": "stream",
          "name": "stdout",
          "text": [
            "📊 Pandas GroupBy Time: 59.76 ms\n",
            "🔥 FireDucks GroupBy Time: 13.19 ms\n"
          ]
        }
      ]
    },
    {
      "cell_type": "code",
      "source": [
        "start = time.time()\n",
        "sorted_pdf = grouped_pdf.sort_values(by='price', ascending=False)\n",
        "print('🔽 Pandas Sort Time:', round((time.time() - start) * 1000, 2), 'ms')\n",
        "\n",
        "# ----------------------------------------\n",
        "# 8. FireDucks Benchmark: Sort\n",
        "# ----------------------------------------\n",
        "start = time.time()\n",
        "sorted_fdf = grouped_fdf.sort_values(by='price', ascending=False)\n",
        "print('🔥 FireDucks Sort Time:', round((time.time() - start) * 1000, 2), 'ms')\n",
        "\n",
        "# ----------------------------------------\n",
        "print(\"✅ Benchmark Completed!\")"
      ],
      "metadata": {
        "colab": {
          "base_uri": "https://localhost:8080/"
        },
        "id": "si5jR5XV5Ghv",
        "outputId": "8c351a67-f78c-4a6f-8653-b638359c939d"
      },
      "execution_count": 7,
      "outputs": [
        {
          "output_type": "stream",
          "name": "stdout",
          "text": [
            "🔽 Pandas Sort Time: 0.87 ms\n",
            "🔥 FireDucks Sort Time: 7.32 ms\n",
            "✅ Benchmark Completed!\n"
          ]
        }
      ]
    }
  ]
}