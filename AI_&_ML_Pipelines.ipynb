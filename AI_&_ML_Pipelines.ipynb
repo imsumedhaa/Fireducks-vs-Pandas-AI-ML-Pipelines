{
  "nbformat": 4,
  "nbformat_minor": 0,
  "metadata": {
    "colab": {
      "provenance": [],
      "authorship_tag": "ABX9TyMuodrSokYEVG0geW9nDmw/",
      "include_colab_link": true
    },
    "kernelspec": {
      "name": "python3",
      "display_name": "Python 3"
    },
    "language_info": {
      "name": "python"
    }
  },
  "cells": [
    {
      "cell_type": "markdown",
      "metadata": {
        "id": "view-in-github",
        "colab_type": "text"
      },
      "source": [
        "<a href=\"https://colab.research.google.com/github/imsumedhaa/Fireducks-vs-Pandas-AI-ML-Pipelines/blob/main/AI_%26_ML_Pipelines.ipynb\" target=\"_parent\"><img src=\"https://colab.research.google.com/assets/colab-badge.svg\" alt=\"Open In Colab\"/></a>"
      ]
    },
    {
      "cell_type": "code",
      "execution_count": 5,
      "metadata": {
        "colab": {
          "base_uri": "https://localhost:8080/"
        },
        "id": "nUx_GEEHPpRf",
        "outputId": "3de95fda-b54a-49da-d86d-c82f9e2cd889"
      },
      "outputs": [
        {
          "output_type": "stream",
          "name": "stdout",
          "text": [
            "Requirement already satisfied: fireducks in /usr/local/lib/python3.11/dist-packages (1.2.7)\n",
            "Requirement already satisfied: firefw==1.2.7 in /usr/local/lib/python3.11/dist-packages (from fireducks) (1.2.7)\n",
            "Requirement already satisfied: pandas<2.3.0,>=1.5.3 in /usr/local/lib/python3.11/dist-packages (from fireducks) (2.2.2)\n",
            "Requirement already satisfied: pyarrow<19.1,>=19.0 in /usr/local/lib/python3.11/dist-packages (from fireducks) (19.0.1)\n",
            "Requirement already satisfied: numpy>=1.23.2 in /usr/local/lib/python3.11/dist-packages (from pandas<2.3.0,>=1.5.3->fireducks) (2.0.2)\n",
            "Requirement already satisfied: python-dateutil>=2.8.2 in /usr/local/lib/python3.11/dist-packages (from pandas<2.3.0,>=1.5.3->fireducks) (2.8.2)\n",
            "Requirement already satisfied: pytz>=2020.1 in /usr/local/lib/python3.11/dist-packages (from pandas<2.3.0,>=1.5.3->fireducks) (2025.2)\n",
            "Requirement already satisfied: tzdata>=2022.7 in /usr/local/lib/python3.11/dist-packages (from pandas<2.3.0,>=1.5.3->fireducks) (2025.2)\n",
            "Requirement already satisfied: six>=1.5 in /usr/local/lib/python3.11/dist-packages (from python-dateutil>=2.8.2->pandas<2.3.0,>=1.5.3->fireducks) (1.17.0)\n"
          ]
        }
      ],
      "source": [
        "!pip install fireducks\n",
        "FIREDUCKS_FLAGS=\"--benchmark-mode\"\n",
        "import pandas as pd\n",
        "import fireducks.pandas as fd\n",
        "import numpy as np\n",
        "import time\n",
        "\n",
        "# Function to evaluate FireDucks\n",
        "def evaluate(df):\n",
        "    try:\n",
        "        df._evaluate()\n",
        "    except AttributeError:\n",
        "        pass\n",
        "\n",
        "# Create sample data\n",
        "df = pd.DataFrame({\n",
        "    'product': np.random.choice(['apple', 'banana', 'orange', 'kiwi'], size=1_000_000),\n",
        "    'region': np.random.choice(['north', 'south', 'east', 'west'], size=1_000_000),\n",
        "    'price': np.random.uniform(10, 200, size=1_000_000),\n",
        "    'units_sold': np.random.randint(1, 50, size=1_000_000)\n",
        "})\n",
        "df.to_csv('sales_data.csv', index=False)"
      ]
    },
    {
      "cell_type": "code",
      "source": [
        "start = time.time()\n",
        "pdf = pd.read_csv('sales_data.csv')\n",
        "print('📄 Pandas Read Time:', round(time.time() - start, 4), 'sec')\n",
        "\n",
        "## 2. **FireDucks Benchmark: Read**\n",
        "start = time.time()\n",
        "fdf = fd.read_csv('sales_data.csv')\n",
        "evaluate(fdf)\n",
        "print('🔥 FireDucks Read Time:', round(time.time() - start, 4), 'sec')\n"
      ],
      "metadata": {
        "colab": {
          "base_uri": "https://localhost:8080/"
        },
        "id": "g_thKg1CP2zN",
        "outputId": "ea6b8049-ae1b-44f4-ea10-ecf46cd33b03"
      },
      "execution_count": 18,
      "outputs": [
        {
          "output_type": "stream",
          "name": "stdout",
          "text": [
            "📄 Pandas Read Time: 0.468 sec\n",
            "🔥 FireDucks Read Time: 0.228 sec\n"
          ]
        }
      ]
    },
    {
      "cell_type": "code",
      "source": [
        "## 3. **Pandas Benchmark: Filter**\n",
        "start = time.time()\n",
        "filtered_pdf = pdf[pdf['price'] > 100]\n",
        "print('📉 Pandas Filter Time:', round(time.time() - start, 4), 'sec')\n",
        "\n",
        "## 4. **FireDucks Benchmark: Filter**\n",
        "start = time.time()\n",
        "filtered_fdf = fdf[fdf['price'] > 100]\n",
        "evaluate(filtered_fdf)\n",
        "print('🔥 FireDucks Filter Time:', round(time.time() - start, 4), 'sec')"
      ],
      "metadata": {
        "colab": {
          "base_uri": "https://localhost:8080/"
        },
        "id": "8KN0-VbH4vHQ",
        "outputId": "5202002a-87eb-46fd-be52-f8ff3c929125"
      },
      "execution_count": 11,
      "outputs": [
        {
          "output_type": "stream",
          "name": "stdout",
          "text": [
            "📉 Pandas Filter Time: 0.0344 sec\n",
            "🔥 FireDucks Filter Time: 0.0406 sec\n"
          ]
        }
      ]
    },
    {
      "cell_type": "code",
      "source": [
        "## 5. **Pandas Benchmark: GroupBy**\n",
        "start = time.time()\n",
        "grouped_pdf = filtered_pdf.groupby('region')['price'].mean().reset_index()\n",
        "print('📊 Pandas GroupBy Time:', round(time.time() - start, 4), 'sec')\n",
        "\n",
        "## 6. **FireDucks Benchmark: GroupBy**\n",
        "start = time.time()\n",
        "grouped_fdf = filtered_fdf.groupby('region')['price'].mean().reset_index()\n",
        "evaluate(grouped_fdf)\n",
        "print('🔥 FireDucks GroupBy Time:', round(time.time() - start, 4), 'sec')"
      ],
      "metadata": {
        "colab": {
          "base_uri": "https://localhost:8080/"
        },
        "id": "XPqThf9H5AHV",
        "outputId": "d476e346-0eb1-4d5e-8a87-50b6a8971ad8"
      },
      "execution_count": 13,
      "outputs": [
        {
          "output_type": "stream",
          "name": "stdout",
          "text": [
            "📊 Pandas GroupBy Time: 0.0383 sec\n",
            "🔥 FireDucks GroupBy Time: 0.0153 sec\n"
          ]
        }
      ]
    },
    {
      "cell_type": "code",
      "source": [
        "## 7. **Pandas Benchmark: Sort**\n",
        "start = time.time()\n",
        "sorted_pdf = grouped_pdf.sort_values(by='price', ascending=False)\n",
        "print('🔽 Pandas Sort Time:', round(time.time() - start, 4), 'sec')\n",
        "\n",
        "## 8. **FireDucks Benchmark: Sort**\n",
        "start = time.time()\n",
        "sorted_fdf = grouped_fdf.sort_values(by='price', ascending=False)\n",
        "evaluate(sorted_fdf)\n",
        "print('🔥 FireDucks Sort Time:', round(time.time() - start, 4), 'sec')\n",
        "\n",
        "print(\"✅ Benchmark Completed!\")"
      ],
      "metadata": {
        "colab": {
          "base_uri": "https://localhost:8080/"
        },
        "id": "si5jR5XV5Ghv",
        "outputId": "ccb1e08d-eead-4d4f-ba71-43f46a898a30"
      },
      "execution_count": 15,
      "outputs": [
        {
          "output_type": "stream",
          "name": "stdout",
          "text": [
            "🔽 Pandas Sort Time: 0.0009 sec\n",
            "🔥 FireDucks Sort Time: 0.0029 sec\n",
            "✅ Benchmark Completed!\n"
          ]
        }
      ]
    }
  ]
}